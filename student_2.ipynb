{
 "cells": [
  {
   "cell_type": "code",
   "execution_count": 1,
   "metadata": {},
   "outputs": [],
   "source": [
    "from selenium import webdriver\n",
    "from PIL import Image\n",
    "import os\n",
    "from os import path\n",
    "import time\n",
    "import random\n",
    "import pandas as pd\n",
    "import requests\n",
    "import json\n",
    "import numpy as np"
   ]
  },
  {
   "cell_type": "code",
   "execution_count": 1,
   "metadata": {},
   "outputs": [],
   "source": [
    "import code.visualizations as viz\n",
    "import code.data_preparation as dprep"
   ]
  },
  {
   "cell_type": "code",
   "execution_count": 2,
   "metadata": {},
   "outputs": [],
   "source": [
    "api_keys = dprep.get_api_keys()\n",
    "omdb_key = api_keys[0]\n",
    "imdb_key = api_keys[1]\n",
    "tmdb_key = api_keys[2]\n"
   ]
  },
  {
   "cell_type": "markdown",
   "metadata": {},
   "source": [
    "## Scraping functions"
   ]
  },
  {
   "cell_type": "code",
   "execution_count": 4,
   "metadata": {},
   "outputs": [],
   "source": [
    "# scrape financial details from the numbers website, \n",
    "# make numbers_df, clean the data and filter for only last 15 years\n",
    "\n",
    "financials_list = dprep.the_numbers_scraping()"
   ]
  },
  {
   "cell_type": "code",
   "execution_count": 5,
   "metadata": {},
   "outputs": [],
   "source": [
    "# make numbers_df, filter out corrupt/anomolous rows by rejecting movies\n",
    "# with no worldwide takings and movies with budget <$1m \n",
    "# only include movies with presence in the US\n",
    "\n",
    "numbers_df = dprep.construct_prepare_numbers_df(financials_list)"
   ]
  },
  {
   "cell_type": "code",
   "execution_count": 6,
   "metadata": {},
   "outputs": [],
   "source": [
    "# make financials_df, copy of number_df with cleaned data, filtered for only\n",
    "# last 15 years and empty column added to hold imdb_code\n",
    "\n",
    "financials_15_df = dprep.make_fin_15(numbers_df)\n"
   ]
  },
  {
   "cell_type": "code",
   "execution_count": 7,
   "metadata": {
    "collapsed": true
   },
   "outputs": [
    {
     "name": "stderr",
     "output_type": "stream",
     "text": [
      "C:\\Users\\james\\Documents\\flatiron_data_science\\phase1\\Project_fin\\dsc-phase-1-project\\code\\data_preparation.py:224: SettingWithCopyWarning: \n",
      "A value is trying to be set on a copy of a slice from a DataFrame\n",
      "\n",
      "See the caveats in the documentation: https://pandas.pydata.org/pandas-docs/stable/user_guide/indexing.html#returning-a-view-versus-a-copy\n",
      "  financials_15_df['imdb_code'][financials_15_df.title == movie] = imdb_id\n"
     ]
    }
   ],
   "source": [
    "# use omdb api to get attributes for movies in numbers_df\n",
    "# create a new df that is a copy of numbers_df but with the imdb_code, which \n",
    "# will be used as the primary key, filled in. Do this so we have a separate df\n",
    "# after each time-consuming scrape/api session, so it easier to isolate different\n",
    "# blocs of code to work with\n",
    "# the function call also creates a global dictionary of the omdb attributes that\n",
    "# will be used to create the attributes database\n",
    "\n",
    "(omdb_attrs, financials_15_df) = dprep.make_omdb_dict(financials_15_df, omdb_key)"
   ]
  },
  {
   "cell_type": "code",
   "execution_count": 8,
   "metadata": {},
   "outputs": [],
   "source": [
    "# manual imdb code insertion for problematic titles\n",
    "financials_15_df = dprep.update_make_omdb_dict(financials_15_df, omdb_key)"
   ]
  },
  {
   "cell_type": "code",
   "execution_count": 9,
   "metadata": {},
   "outputs": [],
   "source": [
    "# makes a dataframe of movie attributes using omdb api, imdb key is primary key\n",
    "attributes_df = dprep.make_attributes_df()"
   ]
  },
  {
   "cell_type": "markdown",
   "metadata": {},
   "source": [
    "## Save the dataframes"
   ]
  },
  {
   "cell_type": "code",
   "execution_count": 10,
   "metadata": {
    "scrolled": true
   },
   "outputs": [],
   "source": [
    "dprep.save_files(financials_list, numbers_df, financials_15_df, omdb_attrs, attributes_df)"
   ]
  },
  {
   "cell_type": "markdown",
   "metadata": {},
   "source": [
    "**DATAFRAMES** <br><br>\n",
    "**numbers_df** - all financial data from The Numbers website<br>\n",
    "**financials_15_df** - all financial data for numbers movies in last 15 years <br>\n",
    "**financials_hits_df** - same data but filtered out loss making movies, those only succesful outside english speaking world and those with no documented figures <br>\n",
    "**financials_flops_df** - same but filtered out profit making movies <br>\n",
    "<br>"
   ]
  },
  {
   "cell_type": "code",
   "execution_count": null,
   "metadata": {},
   "outputs": [],
   "source": []
  },
  {
   "cell_type": "code",
   "execution_count": null,
   "metadata": {},
   "outputs": [],
   "source": [
    "manual_list = ['Star Wars Ep. VII: The Force Awakens', \n",
    "'Star Wars Ep. VIII: The Last Jedi', \n",
    "'Prince of Persia: Sands of Time', \n",
    "'Fast and Furious 6', \n",
    "'The Chronicles of Narnia: The Voyage of the Daw…', \n",
    "'Harry Potter and the Deathly Hallows: Part II', \n",
    "'Harry Potter and the Deathly Hallows: Part I', \n",
    "'Fantastic Four: Rise of the Silver Surfer', \n",
    "'The Hangover 3', \n",
    "'Ford v. Ferrari', \n",
    "'Dr. Seuss’ The Grinch', \n",
    "'Mamma Mia: Here We Go Again!', \n",
    "'The Angry Birds Movie', \n",
    "'Wall Street 2: Money Never Sleeps',\n",
    "'Dr. Seuss’ The Lorax', \n",
    "'All Eyez on Me', \n",
    "'John Wick: Chapter Two', \n",
    "'Underworld 3: Rise of the Lycans', \n",
    "'Halloween 2',        \n",
    "'Precious (Based on the Novel Push by Sapphire)']\n",
    "\n",
    "manual_imdb = ['tt2488496', 'tt2527336', 'tt0473075', 'tt1905041', 'tt0980970', 'tt1201607', 'tt0926084', 'tt0486576', 'tt1951261', 'tt1950186', 'tt2709692', 'tt6911608', 'tt1985949', 'tt1027718', 'tt1482459', 'tt1666185', 'tt4425200', 'tt0834001', 'tt1311067', 'tt0929632']\n"
   ]
  }
 ],
 "metadata": {
  "kernelspec": {
   "display_name": "Python (learn-env)",
   "language": "python",
   "name": "learn-env"
  },
  "language_info": {
   "codemirror_mode": {
    "name": "ipython",
    "version": 3
   },
   "file_extension": ".py",
   "mimetype": "text/x-python",
   "name": "python",
   "nbconvert_exporter": "python",
   "pygments_lexer": "ipython3",
   "version": "3.8.5"
  },
  "toc": {
   "base_numbering": 1,
   "nav_menu": {},
   "number_sections": true,
   "sideBar": true,
   "skip_h1_title": false,
   "title_cell": "Table of Contents",
   "title_sidebar": "Contents",
   "toc_cell": false,
   "toc_position": {
    "height": "calc(100% - 180px)",
    "left": "10px",
    "top": "150px",
    "width": "341.333px"
   },
   "toc_section_display": true,
   "toc_window_display": true
  }
 },
 "nbformat": 4,
 "nbformat_minor": 4
}
