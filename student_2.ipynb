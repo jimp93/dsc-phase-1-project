{
 "cells": [
  {
   "cell_type": "code",
   "execution_count": 1,
   "metadata": {},
   "outputs": [],
   "source": [
    "from selenium import webdriver\n",
    "from PIL import Image\n",
    "import os\n",
    "from os import path\n",
    "import time\n",
    "import random\n",
    "import pandas as pd\n",
    "import requests\n",
    "import json\n",
    "import numpy as np"
   ]
  },
  {
   "cell_type": "code",
   "execution_count": 1,
   "metadata": {},
   "outputs": [],
   "source": [
    "import code.visualizations as viz\n",
    "import code.data_preparation as dprep"
   ]
  },
  {
   "cell_type": "code",
   "execution_count": 2,
   "metadata": {},
   "outputs": [],
   "source": [
    "api_keys = dprep.get_api_keys()\n",
    "omdb_key = api_keys[0]\n",
    "imdb_key = api_keys[1]\n",
    "tmdb_key = api_keys[2]\n"
   ]
  },
  {
   "cell_type": "markdown",
   "metadata": {},
   "source": [
    "## Scraping functions"
   ]
  },
  {
   "cell_type": "markdown",
   "metadata": {},
   "source": [
    "### Scrape financial details from the numbers website and make a list of lists"
   ]
  },
  {
   "cell_type": "code",
   "execution_count": 4,
   "metadata": {},
   "outputs": [],
   "source": [
    "financials_list = dprep.the_numbers_scraping()"
   ]
  },
  {
   "cell_type": "markdown",
   "metadata": {},
   "source": [
    "### Make numbers_df, from the list of lists. Filter out corrupt/anomalous rows by rejecting movies with no worldwide takings and movies with budget < 1m dollars and only include movies with presence in the US"
   ]
  },
  {
   "cell_type": "code",
   "execution_count": 5,
   "metadata": {},
   "outputs": [],
   "source": [
    "numbers_df = dprep.construct_prepare_numbers_df(financials_list)"
   ]
  },
  {
   "cell_type": "markdown",
   "metadata": {},
   "source": [
    "### Make financials_df, which is a copy of numbers_df but with cleaned data, filtered for only last 15 years and empty column added to hold imdb_code\n"
   ]
  },
  {
   "cell_type": "code",
   "execution_count": 6,
   "metadata": {},
   "outputs": [],
   "source": [
    "financials_15_df = dprep.make_fin_15(numbers_df)"
   ]
  },
  {
   "cell_type": "markdown",
   "metadata": {},
   "source": [
    "## API functions"
   ]
  },
  {
   "cell_type": "markdown",
   "metadata": {},
   "source": [
    "### Use omdb api to get attributes for movies in numbers_df. The response is stored in global dictionary omdb_attrs that will be used to create the attributes_df dataframe. It also updates the imdb_code column in financials_15_df. It also makes a list of failed calls, due to ambiguous title"
   ]
  },
  {
   "cell_type": "code",
   "execution_count": 7,
   "metadata": {
    "collapsed": true
   },
   "outputs": [
    {
     "name": "stderr",
     "output_type": "stream",
     "text": [
      "C:\\Users\\james\\Documents\\flatiron_data_science\\phase1\\Project_fin\\dsc-phase-1-project\\code\\data_preparation.py:224: SettingWithCopyWarning: \n",
      "A value is trying to be set on a copy of a slice from a DataFrame\n",
      "\n",
      "See the caveats in the documentation: https://pandas.pydata.org/pandas-docs/stable/user_guide/indexing.html#returning-a-view-versus-a-copy\n",
      "  financials_15_df['imdb_code'][financials_15_df.title == movie] = imdb_id\n"
     ]
    }
   ],
   "source": [
    "(omdb_attrs, financials_15_df) = dprep.make_omdb_dict(financials_15_df, omdb_key)"
   ]
  },
  {
   "cell_type": "markdown",
   "metadata": {},
   "source": [
    "### The list of movies with failed calls is filtered to only include important movies -- stored in manual_list. Their imdb codes are found manually and stored in manual_imdb. They are zipped together and used to once again call the omdb api  and update the attributes dictionary (you can call omdb api either using title or imdb code) . "
   ]
  },
  {
   "cell_type": "code",
   "execution_count": null,
   "metadata": {},
   "outputs": [],
   "source": [
    "manual_list = ['Star Wars Ep. VII: The Force Awakens', \n",
    "'Star Wars Ep. VIII: The Last Jedi', \n",
    "'Prince of Persia: Sands of Time', \n",
    "'Fast and Furious 6', \n",
    "'The Chronicles of Narnia: The Voyage of the Daw…', \n",
    "'Harry Potter and the Deathly Hallows: Part II', \n",
    "'Harry Potter and the Deathly Hallows: Part I', \n",
    "'Fantastic Four: Rise of the Silver Surfer', \n",
    "'The Hangover 3', \n",
    "'Ford v. Ferrari', \n",
    "'Dr. Seuss’ The Grinch', \n",
    "'Mamma Mia: Here We Go Again!', \n",
    "'The Angry Birds Movie', \n",
    "'Wall Street 2: Money Never Sleeps',\n",
    "'Dr. Seuss’ The Lorax', \n",
    "'All Eyez on Me', \n",
    "'John Wick: Chapter Two', \n",
    "'Underworld 3: Rise of the Lycans', \n",
    "'Halloween 2',        \n",
    "'Precious (Based on the Novel Push by Sapphire)']\n",
    "\n",
    "manual_imdb = ['tt2488496', 'tt2527336', 'tt0473075', 'tt1905041', 'tt0980970', 'tt1201607', 'tt0926084', 'tt0486576', 'tt1951261', 'tt1950186', 'tt2709692', 'tt6911608', 'tt1985949', 'tt1027718', 'tt1482459', 'tt1666185', 'tt4425200', 'tt0834001', 'tt1311067', 'tt0929632']\n",
    "\n",
    "zipped_codes = list(zip(manual_list, manual_imdb))"
   ]
  },
  {
   "cell_type": "code",
   "execution_count": 8,
   "metadata": {},
   "outputs": [],
   "source": [
    "(omdb_attrs, financials_15_df) = dprep.update_make_omdb_dict(financials_15_df, omdb_key, omdb_attrs, zipped_codes)"
   ]
  },
  {
   "cell_type": "markdown",
   "metadata": {},
   "source": [
    "### Turn the attributes dict into a dataframe"
   ]
  },
  {
   "cell_type": "code",
   "execution_count": 1,
   "metadata": {
    "collapsed": true
   },
   "outputs": [
    {
     "ename": "NameError",
     "evalue": "name 'dprep' is not defined",
     "output_type": "error",
     "traceback": [
      "\u001b[1;31m---------------------------------------------------------------------------\u001b[0m",
      "\u001b[1;31mNameError\u001b[0m                                 Traceback (most recent call last)",
      "\u001b[1;32m<ipython-input-1-d70eedbc7b33>\u001b[0m in \u001b[0;36m<module>\u001b[1;34m\u001b[0m\n\u001b[1;32m----> 1\u001b[1;33m \u001b[0mattributes_df\u001b[0m \u001b[1;33m=\u001b[0m \u001b[0mdprep\u001b[0m\u001b[1;33m.\u001b[0m\u001b[0mmake_attributes_df\u001b[0m\u001b[1;33m(\u001b[0m\u001b[0momdb_attrs\u001b[0m\u001b[1;33m)\u001b[0m\u001b[1;33m\u001b[0m\u001b[1;33m\u001b[0m\u001b[0m\n\u001b[0m",
      "\u001b[1;31mNameError\u001b[0m: name 'dprep' is not defined"
     ]
    }
   ],
   "source": [
    "attributes_df = dprep.make_attributes_df(omdb_attrs)"
   ]
  },
  {
   "cell_type": "markdown",
   "metadata": {},
   "source": [
    "## Save the dataframes"
   ]
  },
  {
   "cell_type": "code",
   "execution_count": 10,
   "metadata": {
    "scrolled": true
   },
   "outputs": [],
   "source": [
    "dprep.save_files(financials_list, numbers_df, financials_15_df, omdb_attrs, attributes_df)"
   ]
  },
  {
   "cell_type": "markdown",
   "metadata": {},
   "source": [
    "**DATAFRAMES** <br><br>\n",
    "**numbers_df** - all financial data from The Numbers website<br>\n",
    "**financials_15_df** - all financial data for numbers movies in last 15 years <br>\n",
    "**financials_hits_df** - same data but filtered out loss making movies, those only succesful outside english speaking world and those with no documented figures <br>\n",
    "**financials_flops_df** - same but filtered out profit making movies <br>\n",
    "<br>"
   ]
  }
 ],
 "metadata": {
  "kernelspec": {
   "display_name": "Python (learn-env)",
   "language": "python",
   "name": "learn-env"
  },
  "language_info": {
   "codemirror_mode": {
    "name": "ipython",
    "version": 3
   },
   "file_extension": ".py",
   "mimetype": "text/x-python",
   "name": "python",
   "nbconvert_exporter": "python",
   "pygments_lexer": "ipython3",
   "version": "3.8.5"
  },
  "toc": {
   "base_numbering": 1,
   "nav_menu": {},
   "number_sections": true,
   "sideBar": true,
   "skip_h1_title": false,
   "title_cell": "Table of Contents",
   "title_sidebar": "Contents",
   "toc_cell": false,
   "toc_position": {
    "height": "calc(100% - 180px)",
    "left": "10px",
    "top": "150px",
    "width": "341.333px"
   },
   "toc_section_display": true,
   "toc_window_display": true
  }
 },
 "nbformat": 4,
 "nbformat_minor": 4
}
